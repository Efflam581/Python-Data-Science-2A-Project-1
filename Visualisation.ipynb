{
 "cells": [
  {
   "cell_type": "markdown",
   "id": "7a7e80ac",
   "metadata": {},
   "source": [
    "# A look into creating interactive maps with folium"
   ]
  },
  {
   "cell_type": "markdown",
   "id": "c96f7209",
   "metadata": {},
   "source": [
    "We'll be using the individual datasets at first, to get individual countries' maps. Once we have the work on individual countries, we'll start trying to build a european map"
   ]
  },
  {
   "cell_type": "markdown",
   "id": "6e14d8bd",
   "metadata": {},
   "source": [
    "We start by importing the required packages"
   ]
  },
  {
   "cell_type": "code",
   "execution_count": null,
   "id": "816dbece",
   "metadata": {},
   "outputs": [],
   "source": [
    "import countriesAndCities\n",
    "import dataGathering\n",
    "import folium\n",
    "import geopandas as gpd\n",
    "import pandas as pd\n",
    "from shapely import wkt"
   ]
  },
  {
   "cell_type": "markdown",
   "id": "c622faa8",
   "metadata": {},
   "source": [
    "# 1. Austria"
   ]
  },
  {
   "cell_type": "code",
   "execution_count": null,
   "id": "9a5b68e7",
   "metadata": {},
   "outputs": [],
   "source": [
    "def changeKeys(country, valueToChange, newValue):\n",
    "    '''A method that takes the keys for a country in the largestStations dictionary, and replacey certain values\n",
    "     @param country: the country with a value to change, of type string\n",
    "     @param valueToChange: the value in the key to change\n",
    "     @param newValue: the new value in the key\n",
    "     @return largestStations: a dictionary with the information, of type dict'''\n",
    "    listKeys = list(largestStations[country].keys())\n",
    "    oldKeys = []\n",
    "    for i in range (len(listKeys)):\n",
    "        station = listKeys[i]\n",
    "        if valueToChange in listKeys[i]:\n",
    "            oldKey = station\n",
    "            oldKeys.append(oldKey)\n",
    "            newKey = station.replace(valueToChange, '') + newValue\n",
    "            largestStations[country][newKey] = largestStations[country][oldKey]\n",
    "    \n",
    "    for station in oldKeys:\n",
    "        largestStations[country].pop(station)\n",
    "    \n",
    "    return(largestStations)"
   ]
  },
  {
   "cell_type": "markdown",
   "id": "eaccc781",
   "metadata": {},
   "source": [
    "We build the dataset the same way we built it for the unified database"
   ]
  },
  {
   "cell_type": "code",
   "execution_count": null,
   "id": "1b3a4069",
   "metadata": {},
   "outputs": [],
   "source": [
    "largestStations = dict()\n",
    "\n",
    "urlGermany = 'https://bahnauskunft.info/bahnhoefe-deutschland/'\n",
    "urlAustria = 'https://www.omio.at/bahnhoefe'"
   ]
  },
  {
   "cell_type": "code",
   "execution_count": null,
   "id": "d4239173",
   "metadata": {},
   "outputs": [],
   "source": [
    "largestStations['Austria']= dataGathering.gather(urlAustria, start=1)"
   ]
  },
  {
   "cell_type": "code",
   "execution_count": null,
   "id": "50121d49",
   "metadata": {},
   "outputs": [],
   "source": [
    "largestStations = changeKeys('Austria', 'Hbf', 'Hauptbahnhof')"
   ]
  },
  {
   "cell_type": "code",
   "execution_count": null,
   "id": "9573d0c3",
   "metadata": {},
   "outputs": [],
   "source": [
    "largestStations['Austria']"
   ]
  },
  {
   "cell_type": "code",
   "execution_count": null,
   "id": "ed60acef",
   "metadata": {},
   "outputs": [],
   "source": [
    "largestStations['Austria']['Wien Westbahnhof'][0]"
   ]
  },
  {
   "cell_type": "markdown",
   "id": "e4d3ed1c",
   "metadata": {},
   "source": [
    "# 1.1 Stations"
   ]
  },
  {
   "cell_type": "code",
   "execution_count": null,
   "id": "0b29c669",
   "metadata": {},
   "outputs": [],
   "source": [
    "stationsAustria = 'Austria/GIP_Betriebsstellen_DelEUV_JSON.json'\n",
    "stationsAustriaFrame = gpd.read_file(stationsAustria)"
   ]
  },
  {
   "cell_type": "code",
   "execution_count": null,
   "id": "f7d2ce7e",
   "metadata": {},
   "outputs": [],
   "source": [
    "columnsToRemove = ['BSTS_ID', 'DB640_CODE', 'OBJECTID', 'GIP_OBID', 'EXTERNALID', 'REGIONALCO', 'VALIDFROM', 'VALIDTO', 'OWNER_NAME', 'PV_EVA_NR', 'ANZ_AUFZUG', 'ANZ_FAHRTR', 'ANZ_UHREN',\n",
    "                  'ANZ_AKUSTI','ANZ_OPTISC', 'INFOPOINT', 'MUEZ', 'MUEZ_KURZ', 'HILFE_MOBI', 'ANZ_ROLLST', 'ANZ_E_LADE', 'RUD_PARKPL', 'VERIFIZIER',\n",
    "                  'PUBL_WLAN', 'MUEZ_LANG', 'BEMERKUNG']"
   ]
  },
  {
   "cell_type": "code",
   "execution_count": null,
   "id": "8d9b0380",
   "metadata": {},
   "outputs": [],
   "source": [
    "for column in columnsToRemove:\n",
    "    stationsAustriaFrame = stationsAustriaFrame.drop(column, axis=1)"
   ]
  },
  {
   "cell_type": "code",
   "execution_count": null,
   "id": "77065039",
   "metadata": {},
   "outputs": [],
   "source": [
    "dfStationsAustria = []\n",
    "for station in largestStations['Austria']:\n",
    "    tempFrame = stationsAustriaFrame.loc[stationsAustriaFrame['NAME_FPL'] == station]\n",
    "    dfStationsAustria.append(tempFrame)"
   ]
  },
  {
   "cell_type": "code",
   "execution_count": null,
   "id": "af084a1a",
   "metadata": {},
   "outputs": [],
   "source": [
    "workFrameAustria = gpd.GeoDataFrame(pd.concat(dfStationsAustria), crs = 31287)"
   ]
  },
  {
   "cell_type": "code",
   "execution_count": null,
   "id": "935def7a",
   "metadata": {},
   "outputs": [],
   "source": [
    "workFrameAustria = gpd.GeoDataFrame(pd.concat(dfStationsAustria), crs = 31287)"
   ]
  },
  {
   "cell_type": "code",
   "execution_count": null,
   "id": "037e3da1",
   "metadata": {},
   "outputs": [],
   "source": [
    "workFrameAustria"
   ]
  },
  {
   "cell_type": "code",
   "execution_count": null,
   "id": "63b2ff45",
   "metadata": {},
   "outputs": [],
   "source": [
    "workFrameAustria['NAME_FPL'].values[0]"
   ]
  },
  {
   "cell_type": "markdown",
   "id": "3ae7d398",
   "metadata": {},
   "source": [
    "# 1.2 Lines"
   ]
  },
  {
   "cell_type": "code",
   "execution_count": null,
   "id": "aed081d2",
   "metadata": {},
   "outputs": [],
   "source": [
    "linesAustria = 'Austria/GIP_Strecken_MLA.json'\n",
    "linesAustriaFrame = gpd.read_file(linesAustria)"
   ]
  },
  {
   "cell_type": "code",
   "execution_count": null,
   "id": "f1d97ef7",
   "metadata": {},
   "outputs": [],
   "source": [
    "uselessColumns = ['GIP_OBID', 'BST_ID', 'FOW_NAME', 'FRC_NAME', 'REGION', 'VALIDFROM', 'VALIDTO', 'CROSSSECT', 'CROSS_NAME', \n",
    "                  'ELEKTRI', 'EXPDATE']\n",
    "\n",
    "for column in uselessColumns:\n",
    "    linesAustriaFrame = linesAustriaFrame.drop(column, axis=1)"
   ]
  },
  {
   "cell_type": "markdown",
   "id": "976b50a6",
   "metadata": {},
   "source": [
    "In the case of the lines, we can't remove any rows of the dataframe. Every line has a bit of information, that cannot be replicated based on other rows"
   ]
  },
  {
   "cell_type": "markdown",
   "id": "7184b251",
   "metadata": {},
   "source": [
    "# 2. Visualisation"
   ]
  },
  {
   "cell_type": "markdown",
   "id": "f4c5b2dc",
   "metadata": {},
   "source": [
    "We now have two sets of working data. We can visualise this data on interactive maps using folium"
   ]
  },
  {
   "cell_type": "code",
   "execution_count": null,
   "id": "23e9ae3f",
   "metadata": {},
   "outputs": [],
   "source": [
    "trainMap = folium.Map(location = [47.5, 14.6], tiles = 'OpenStreetMap', zoom_start=12)\n",
    "\n"
   ]
  },
  {
   "cell_type": "markdown",
   "id": "7eea9385",
   "metadata": {},
   "source": [
    "We can now add markers, based on the different train stations, onto the map"
   ]
  },
  {
   "cell_type": "code",
   "execution_count": null,
   "id": "8db13236",
   "metadata": {},
   "outputs": [],
   "source": [
    "austriaStations = [[point.xy[1][0], point.xy[0][0]] for point in workFrameAustria.geometry ]"
   ]
  },
  {
   "cell_type": "code",
   "execution_count": null,
   "id": "d5bcc73b",
   "metadata": {},
   "outputs": [],
   "source": [
    "for i in range (len(austriaStations)):\n",
    "    coordinates = austriaStations[i]\n",
    "    station = workFrameAustria['NAME_FPL'].values[i]\n",
    "    dailyVisitors = largestStations['Austria'][station][0]\n",
    "    trainMap.add_child(folium.Marker(location = coordinates, popup = station + \"<br>\" + dailyVisitors + ' daily visitors'))"
   ]
  },
  {
   "cell_type": "code",
   "execution_count": null,
   "id": "07c02878",
   "metadata": {},
   "outputs": [],
   "source": [
    "trainMap"
   ]
  },
  {
   "cell_type": "code",
   "execution_count": null,
   "id": "eb39425c",
   "metadata": {},
   "outputs": [],
   "source": [
    "for line in linesAustriaFrame.geometry:\n",
    "    lineTuple = []\n",
    "    lineTupleInvert = list(line[0].coords)\n",
    "    for i in range (len(lineTupleInvert)):\n",
    "        lineTuple.append([lineTupleInvert[i][1], lineTupleInvert[i][0]])\n",
    "    folium.PolyLine(lineTuple).add_to(trainMap)"
   ]
  },
  {
   "cell_type": "code",
   "execution_count": null,
   "id": "8385f1c7",
   "metadata": {},
   "outputs": [],
   "source": [
    "trainMap"
   ]
  },
  {
   "cell_type": "markdown",
   "id": "834734f9",
   "metadata": {},
   "source": [
    "# 2. Germany"
   ]
  },
  {
   "cell_type": "markdown",
   "id": "ff876f59",
   "metadata": {},
   "source": [
    "We can do the exact same for the German train lines"
   ]
  },
  {
   "cell_type": "code",
   "execution_count": null,
   "id": "704bff64",
   "metadata": {},
   "outputs": [],
   "source": [
    "largestStations['Germany'] = dataGathering.gather(urlGermany)"
   ]
  },
  {
   "cell_type": "code",
   "execution_count": null,
   "id": "9e61f6f4",
   "metadata": {},
   "outputs": [],
   "source": [
    "largestStations = changeKeys('Germany', 'Hauptbahnhof', 'Hbf')"
   ]
  },
  {
   "cell_type": "markdown",
   "id": "0d7db379",
   "metadata": {},
   "source": [
    "# 2.1 German Stations"
   ]
  },
  {
   "cell_type": "code",
   "execution_count": null,
   "id": "a3edbedc",
   "metadata": {},
   "outputs": [],
   "source": [
    "stations = 'Germany/railwayStationNodes.geojson'\n",
    "\n",
    "deutscheBahnStations = gpd.read_file(stations)"
   ]
  },
  {
   "cell_type": "code",
   "execution_count": null,
   "id": "121a2f1a",
   "metadata": {},
   "outputs": [],
   "source": [
    "deutscheBahnStations = deutscheBahnStations.drop('formOfNode', axis = 1)\n",
    "deutscheBahnStations = deutscheBahnStations.drop('id', axis = 1)"
   ]
  },
  {
   "cell_type": "code",
   "execution_count": null,
   "id": "325c41c4",
   "metadata": {},
   "outputs": [],
   "source": [
    "dfListStations = []\n",
    "for station in (list(largestStations['Germany'].keys())):\n",
    "    tempFrame = deutscheBahnStations.loc[deutscheBahnStations['geographicalName'] == station]\n",
    "    dfListStations.append(tempFrame)"
   ]
  },
  {
   "cell_type": "code",
   "execution_count": null,
   "id": "0c1bf8ba",
   "metadata": {},
   "outputs": [],
   "source": [
    "workFrameStationsGermany = gpd.GeoDataFrame(pd.concat(dfListStations, ignore_index=True), crs=4258)"
   ]
  },
  {
   "cell_type": "code",
   "execution_count": null,
   "id": "8f478760",
   "metadata": {},
   "outputs": [],
   "source": [
    "workFrameStationsGermany"
   ]
  },
  {
   "cell_type": "code",
   "execution_count": null,
   "id": "2f3b02b0",
   "metadata": {},
   "outputs": [],
   "source": [
    "workFrameStationsGermany = workFrameStationsGermany.drop_duplicates(subset='railwayStationCode')"
   ]
  },
  {
   "cell_type": "markdown",
   "id": "f779eba8",
   "metadata": {},
   "source": [
    "# 2.2 German train lines"
   ]
  },
  {
   "cell_type": "code",
   "execution_count": null,
   "id": "26961d95",
   "metadata": {},
   "outputs": [],
   "source": [
    "deutscheBahnLines = gpd.read_file('Germany/railwayLines.geojson')"
   ]
  },
  {
   "cell_type": "code",
   "execution_count": null,
   "id": "ea4c9059",
   "metadata": {},
   "outputs": [],
   "source": [
    "workFrameLines = gpd.GeoDataFrame(pd.concat(dfListLines, ignore_index = True), crs = 4258)"
   ]
  },
  {
   "cell_type": "code",
   "execution_count": null,
   "id": "4bc9ab28",
   "metadata": {},
   "outputs": [],
   "source": [
    "workFrameLines = workFrameLines.drop_duplicates(subset='railwayLineCode')"
   ]
  },
  {
   "cell_type": "markdown",
   "id": "af7c9d00",
   "metadata": {},
   "source": [
    "# 2.3 Visualising German data"
   ]
  },
  {
   "cell_type": "code",
   "execution_count": null,
   "id": "af68147e",
   "metadata": {},
   "outputs": [],
   "source": [
    "germanStationsList = [[point.xy[1][0], point.xy[0][0]] for point in workFrameStationsGermany.geometry ]"
   ]
  },
  {
   "cell_type": "code",
   "execution_count": null,
   "id": "2282e52a",
   "metadata": {},
   "outputs": [],
   "source": [
    "for i in range(len(germanStationsList)):\n",
    "    coordinates = germanStationsList[i]\n",
    "    trainMap.add_child(folium.Marker(location = coordinates, popup= workFrameStationsGermany['geographicalName'].values[i]))"
   ]
  },
  {
   "cell_type": "code",
   "execution_count": null,
   "id": "ee0c3ac3",
   "metadata": {},
   "outputs": [],
   "source": [
    "trainMap"
   ]
  },
  {
   "cell_type": "code",
   "execution_count": null,
   "id": "28f387d8",
   "metadata": {},
   "outputs": [],
   "source": [
    "for line in deutscheBahnLines.geometry:\n",
    "    lineTuple = []\n",
    "    lineTupleInvert = list(line[0].coords)\n",
    "    for i in range (len(lineTupleInvert)):\n",
    "        lineTuple.append([lineTupleInvert[i][1], lineTupleInvert[i][0]])\n",
    "    folium.PolyLine(lineTuple).add_to(trainMap)"
   ]
  },
  {
   "cell_type": "code",
   "execution_count": null,
   "id": "337260f0",
   "metadata": {},
   "outputs": [],
   "source": [
    "trainMap"
   ]
  },
  {
   "cell_type": "markdown",
   "id": "506eb5cd",
   "metadata": {},
   "source": [
    "The German data is awfully incomplete. We can add further information on the German rail network by using a global database"
   ]
  },
  {
   "cell_type": "code",
   "execution_count": null,
   "id": "31d257a4",
   "metadata": {},
   "outputs": [],
   "source": [
    "globalData = 'wld_trs_railways_wfp.csv'\n",
    "worldData = pd.read_csv(globalData)"
   ]
  },
  {
   "cell_type": "code",
   "execution_count": null,
   "id": "596d26ca",
   "metadata": {},
   "outputs": [],
   "source": [
    "Germany = worldData[worldData['country'] == 'Germany']"
   ]
  },
  {
   "cell_type": "code",
   "execution_count": null,
   "id": "fbf8c18f",
   "metadata": {
    "scrolled": true
   },
   "outputs": [],
   "source": [
    "Germany['shape'] = Germany['shape'].apply(wkt.loads)"
   ]
  },
  {
   "cell_type": "code",
   "execution_count": null,
   "id": "865f76f0",
   "metadata": {},
   "outputs": [],
   "source": [
    "geodata = gpd.GeoSeries(Germany['shape'])"
   ]
  },
  {
   "cell_type": "code",
   "execution_count": null,
   "id": "df5ff31e",
   "metadata": {},
   "outputs": [],
   "source": [
    "Germany.set_geometry('shape')"
   ]
  },
  {
   "cell_type": "code",
   "execution_count": null,
   "id": "49736d04",
   "metadata": {},
   "outputs": [],
   "source": [
    "for line in geodata.geometry:\n",
    "    lineTuple = []\n",
    "    lineTupleInvert = list(line[0].coords)\n",
    "    for i in range (len(lineTupleInvert)):\n",
    "        lineTuple.append([lineTupleInvert[i][1], lineTupleInvert[i][0]])\n",
    "    folium.PolyLine(lineTuple).add_to(trainMap)"
   ]
  },
  {
   "cell_type": "code",
   "execution_count": null,
   "id": "104055b2",
   "metadata": {},
   "outputs": [],
   "source": [
    "trainMap"
   ]
  },
  {
   "cell_type": "code",
   "execution_count": null,
   "id": "1f86bf88",
   "metadata": {},
   "outputs": [],
   "source": []
  }
 ],
 "metadata": {
  "kernelspec": {
   "display_name": "Python 3 (ipykernel)",
   "language": "python",
   "name": "python3"
  },
  "language_info": {
   "codemirror_mode": {
    "name": "ipython",
    "version": 3
   },
   "file_extension": ".py",
   "mimetype": "text/x-python",
   "name": "python",
   "nbconvert_exporter": "python",
   "pygments_lexer": "ipython3",
   "version": "3.8.3"
  }
 },
 "nbformat": 4,
 "nbformat_minor": 5
}
