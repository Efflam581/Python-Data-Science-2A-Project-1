{
 "cells": [
  {
   "cell_type": "code",
   "execution_count": null,
   "metadata": {},
   "outputs": [],
   "source": [
    "\"Installation des Packages\"\n",
    "!pip install openpyxl\n",
    "!pip install pandas fiona shapely pyproj rtree # à faire obligatoirement en premier pour utiliser rtree ou pygeos pour les jointures spatiales\n",
    "!pip install geopandas\n",
    "!pip install contextily\n",
    "!pip install folium"
   ]
  },
  {
   "cell_type": "code",
   "execution_count": null,
   "metadata": {},
   "outputs": [],
   "source": [
    "\"Import des librairies\"\n",
    "import geopandas as gpd\n",
    "import contextily as ctx\n",
    "import matplotlib.pyplot as plt\n",
    "import pandas as pd"
   ]
  },
  {
   "cell_type": "code",
   "execution_count": null,
   "metadata": {},
   "outputs": [],
   "source": [
    "\"Import et lecture de la bdd\"\n",
    "df=pd.read_excel('/Users/aharonelbez/Desktop/Projet python 1/Suisse/suissedata1.xlsx')\n",
    "df=df.drop(columns=['Remarque','Carte','Carte.1','N° sv.85','py','N° sv.','Cc','PE','PT','N° ET','Sigle ET','N° GO','Sigle GO','Nom long','Sigle sv.','PC','PP','ST'])\n",
    "df.head()\n",
    "\n",
    "\n",
    "#On recupère que les données concernant les trains\n",
    "df1=df.copy()\n",
    "\n",
    "df1=df1[df1['Moyen de transport']=='Zug']\n",
    "df1.head()\n",
    "\n",
    "\n"
   ]
  },
  {
   "cell_type": "code",
   "execution_count": null,
   "metadata": {},
   "outputs": [],
   "source": [
    "#1. On crée un geodf\n",
    "\n",
    "map_suisse= gpd.GeoDataFrame(df1, geometry=gpd.points_from_xy(df1['Coord. E'], df1['Coord. N']))\n",
    "map_suisse.head()\n",
    "map_suisse.crs\n",
    "\n",
    "\n",
    "# Tentative de mettre un fond de cartes \n",
    "world = gpd.read_file(gpd.datasets.get_path('naturalearth_lowres'))\n",
    "world\n",
    "ax1 = world[world['name'] == 'Switzerland'].plot(\n",
    "    color='white', edgecolor='black')\n",
    "\n",
    "map_suisse.plot(alpha=0.2,edgecolor='black',figsize=(20,20))\n",
    "\n",
    "plt.show()\n"
   ]
  },
  {
   "cell_type": "code",
   "execution_count": null,
   "metadata": {},
   "outputs": [],
   "source": [
    "#2eme option avec folium\n",
    " \n",
    "import folium\n",
    "print(folium.__version__)\n",
    "\n",
    "kanton_map = folium.Map(location=[46.8, 8.33],\n",
    "                   tiles='OpenStreetMap', zoom_start=7)\n",
    "kanton_map.choropleth(geo_data='/Users/aharonelbez/Desktop/Projet python/mapswtzerland.geojson')\n",
    "kanton_map\n",
    "\n",
    "\n",
    "import numpy as np\n",
    "\n",
    "stations = list()\n",
    "for station in df1['Nom (ordre alphab.)']:\n",
    "    stations+= [df1.geometry[df1['Nom (ordre alphab.)']==station]]\n",
    "stations = [item for sublist in stations for item in sublist]\n",
    "print(stations[:3])\n",
    "\n",
    "x=np.array([1,2,3,4,5,6,7,8,9,10])\n",
    "\n",
    "def peer(x):\n",
    "    y=[]\n",
    "    z=[]\n",
    "    for i in range(0,len(x)-1,2):\n",
    "        y=[x[i],x[i+1]]\n",
    "        z+=[y]\n",
    "    return z\n",
    "peer(x)\n",
    "\n",
    "stations2=peer(stations)\n",
    "print(stations2[:4])\n",
    "\n",
    "\n",
    "#-1er option\n",
    "feature_group = folium.FeatureGroup(\"Locations\")\n",
    "for i in range(0,len(stations),2):\n",
    "    feature_group.add_child(folium.Marker(location=[stations[i],station[i+1]]))\n",
    " \n",
    "#-2eme option   \n",
    "feature_group = folium.FeatureGroup(\"Locations\")\n",
    "for station in stations:\n",
    "    feature_group.add_child(folium.Marker(location=[station[0], station[1]])) \n",
    "kanton_map.add_child(feature_group)\n",
    "kanton_map\n",
    " \n",
    "kanton_map.add_child(feature_group)\n",
    "kanton_map\n"
   ]
  },
  {
   "cell_type": "code",
   "execution_count": null,
   "metadata": {},
   "outputs": [],
   "source": [
    "#3eme option fichier geojson\n",
    "\n",
    "df_map=gpd.read_file('mapswtzerland.geojson')\n",
    "\n",
    "df_map.head()\n",
    "\n",
    "import geopandas as gpd\n",
    "df_test = gpd.read_file('mapswtzerland.geojson')\n",
    "print(df_test.columns)\n",
    "df_test.head()\n",
    "df_test.plot()"
   ]
  },
  {
   "cell_type": "code",
   "execution_count": null,
   "metadata": {},
   "outputs": [],
   "source": [
    "#4eme option avec OpenStreetMap\n",
    "m = folium.Map(location=[46.8, 8.33], tiles=\"OpenStreetMap\", zoom_start=7)\n",
    "\n",
    "for i in range(0,len(df1)):\n",
    "       folium.Marker(location=[df1.iloc[i]['Coord. E'], df1.iloc[i]['Coord. N']],popup=df1.iloc[i]['Nom (ordre alphab.)']).add_to(m)\n",
    "\n",
    "m\n"
   ]
  }
 ],
 "metadata": {
  "interpreter": {
   "hash": "aee8b7b246df8f9039afb4144a1f6fd8d2ca17a180786b69acc140d282b71a49"
  },
  "kernelspec": {
   "display_name": "Python 3.8.5 64-bit",
   "language": "python",
   "name": "python3"
  },
  "language_info": {
   "codemirror_mode": {
    "name": "ipython",
    "version": 3
   },
   "file_extension": ".py",
   "mimetype": "text/x-python",
   "name": "python",
   "nbconvert_exporter": "python",
   "pygments_lexer": "ipython3",
   "version": "3.8.5"
  },
  "orig_nbformat": 4
 },
 "nbformat": 4,
 "nbformat_minor": 2
}
