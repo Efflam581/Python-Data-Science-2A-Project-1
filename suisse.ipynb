{
 "cells": [
  {
   "cell_type": "code",
   "execution_count": null,
   "metadata": {},
   "outputs": [],
   "source": [
    "\"Packages Installation \"\n",
    "!pip install openpyxl\n",
    "!pip install pandas fiona shapely pyproj rtree \n",
    "!pip install geopandas\n",
    "!pip install contextily\n",
    "!pip install folium\n",
    "\n",
    "\"Libraries Import\"\n",
    "import geopandas as gpd\n",
    "import contextily as ctx\n",
    "import matplotlib.pyplot as plt\n",
    "import pandas as pd"
   ]
  },
  {
   "cell_type": "markdown",
   "metadata": {},
   "source": [
    "I. Creation of the dataframe "
   ]
  },
  {
   "cell_type": "code",
   "execution_count": null,
   "metadata": {},
   "outputs": [],
   "source": [
    "\n",
    "df=pd.read_excel('suissedata1.xlsx')\n",
    "df=df.drop(columns=['Remarque','Statut','Localité','N° commune','Ct.','Carte','Carte.1','N° sv.85','py','N° sv.','Cc','PE','PT','N° ET','Sigle ET','N° GO','Sigle GO','Nom long','Sigle sv.','PC','PP','ST'])\n",
    "df.head()\n",
    "\n",
    "\n",
    "#We only use the dataframe where the transport is equal to 'Zug' (Train)\n",
    "\n",
    "df1=df.copy()\n",
    "\n",
    "df1=df1[df1['Moyen de transport']=='Zug']\n",
    "df1.head()\n",
    "\n",
    "\n",
    "df2=df1[df1['Longueur']>20]\n",
    "df3=df2.drop(columns=['Longueur', 'Moyen de transport','Altitude','Commune'])\n",
    "df3.head()\n",
    "\n",
    "\n",
    "final_df=df1.assign(Pays=\"Suisse\")\n",
    "final_df.head()\n",
    "final_df.to_csv(r'Suisse\\stations.csv', index = False)\n"
   ]
  },
  {
   "cell_type": "code",
   "execution_count": null,
   "metadata": {},
   "outputs": [],
   "source": [
    "stations_suisse=gpd.GeoDataFrame(final_df, geometry=gpd.points_from_xy(final_df['Coord. E'], final_df['Coord. N']))\n",
    "stations_suisse.crs\n",
    "stations_suisse.plot()"
   ]
  },
  {
   "cell_type": "markdown",
   "metadata": {},
   "source": [
    "II.1) First try to plot a complete map "
   ]
  },
  {
   "cell_type": "code",
   "execution_count": null,
   "metadata": {},
   "outputs": [],
   "source": [
    "\"Creation of a GeoDataFrame\"\n",
    "\n",
    "crs={'init':'epsg:4326'}\n",
    "map_suisse= gpd.GeoDataFrame(final_df,crs=crs, geometry=gpd.points_from_xy(final_df['Coord. E'], final_df['Coord. N']))\n",
    "map_suisse.head()\n",
    "map_suisse.crs\n",
    "\n",
    "# We try to superpose 2 maps but we don't manage to because the coordinates are different between Suisse/suissedata1.xlsx and the gdf world.\n",
    "\n",
    "world = gpd.read_file(gpd.datasets.get_path('naturalearth_lowres'))\n",
    "world\n",
    "ax1 = world[world['name'] == 'Switzerland'].plot(\n",
    "    color='white', edgecolor='black')\n",
    "\n",
    "fig, ax = plt.subplots(figsize=(7,7))\n",
    "ax1.plot(ax=ax,facecolor='Grey', edgecolor='k',alpha=1,linewidth=1,cmap=\"cividis\")\n",
    "map_suisse.plot(ax=ax,alpha=0.2,edgecolor='black',figsize=(20,20))\n"
   ]
  },
  {
   "cell_type": "markdown",
   "metadata": {},
   "source": [
    "II.2) Second try"
   ]
  },
  {
   "cell_type": "code",
   "execution_count": null,
   "metadata": {},
   "outputs": [],
   "source": [
    "#We use folium to plot a map\n",
    "import folium\n",
    "print(folium.__version__)\n",
    "\n",
    "kanton_map = folium.Map(location=[46.8, 8.33],\n",
    "                   tiles='OpenStreetMap', zoom_start=7)\n",
    "kanton_map.choropleth(geo_data='/Users/aharonelbez/Desktop/Projet python 1/Suisse/mapswtzerland.geojson')\n",
    "kanton_map"
   ]
  },
  {
   "cell_type": "code",
   "execution_count": null,
   "metadata": {},
   "outputs": [],
   "source": [
    "#We try to superpose the data\n",
    "from shapely.geometry import Point, Polygon\n",
    "\n",
    "df_map=gpd.read_file('mapswtzerland.geojson')\n",
    "\n",
    "df_map.head()\n",
    "\n",
    "#df_map.plot()\n",
    "\n",
    "\n",
    "suisse_shapefile=gpd.read_file('/Users/aharonelbez/Desktop/Projet python 1/Suisse/gadm36_CHE_shp/gadm36_CHE_2.shp')\n",
    "fig, ax = plt.subplots(figsize=(7,7))\n",
    "suisse_shapefile.plot(ax=ax,facecolor='white',edgecolor='k')\n",
    "map_suisse.plot(ax=ax, color='red', markersize=5)"
   ]
  },
  {
   "cell_type": "markdown",
   "metadata": {},
   "source": [
    "III. An ultimate solution with a correct geojson "
   ]
  },
  {
   "cell_type": "code",
   "execution_count": null,
   "metadata": {},
   "outputs": [],
   "source": [
    "#New geojson.\n",
    "import folium\n",
    "print(folium.__version__)\n",
    "\n",
    "lines_suisse=gpd.read_file('/Users/aharonelbez/Desktop/Projet python 1/Suisse/linie-mit-polygon.geojson')\n",
    "\n",
    "kanton_map = folium.Map(location=[46.8, 8.33],\n",
    "                   tiles='OpenStreetMap', zoom_start=7)\n",
    "kanton_map.choropleth(geo_data=lines_suisse)\n",
    "#kanton_map\n",
    "for j in range(0,len(df3)):\n",
    "       folium.Marker(location=[df3.iloc[j]['Coord. E'], df3.iloc[j]['Coord. N']],popup=df3.iloc[j]['Nom (ordre alphab.)']).add_to(kanton_map)\n",
    "kanton_map"
   ]
  },
  {
   "cell_type": "code",
   "execution_count": null,
   "metadata": {},
   "outputs": [],
   "source": []
  }
 ],
 "metadata": {
  "interpreter": {
   "hash": "aee8b7b246df8f9039afb4144a1f6fd8d2ca17a180786b69acc140d282b71a49"
  },
  "kernelspec": {
   "display_name": "Python 3.8.5 64-bit",
   "language": "python",
   "name": "python3"
  },
  "language_info": {
   "codemirror_mode": {
    "name": "ipython",
    "version": 3
   },
   "file_extension": ".py",
   "mimetype": "text/x-python",
   "name": "python",
   "nbconvert_exporter": "python",
   "pygments_lexer": "ipython3",
   "version": "3.8.5"
  },
  "orig_nbformat": 4
 },
 "nbformat": 4,
 "nbformat_minor": 2
}
