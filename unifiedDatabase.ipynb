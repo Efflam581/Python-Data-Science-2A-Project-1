{
 "cells": [
  {
   "cell_type": "markdown",
   "id": "9585fae9",
   "metadata": {},
   "source": [
    "# Creating two unified databases, with only the necessary information"
   ]
  },
  {
   "cell_type": "markdown",
   "id": "9d684c3e",
   "metadata": {},
   "source": [
    "We are going to create a database, containing only information on a select few cities in every country. As a reference, we chose to consider one city for 5 million inhabitants of the country. \n",
    "\n",
    "We will, as such, consider the first few largest cities (worth 5 million inhabitants), until reaching the entire countries' population."
   ]
  },
  {
   "cell_type": "markdown",
   "id": "dbfab7cb",
   "metadata": {},
   "source": [
    "We'll use a webscraping method to collect the information on a country, and save the list of cities we'll consider in a dictionary"
   ]
  },
  {
   "cell_type": "code",
   "execution_count": null,
   "id": "9ff32886",
   "metadata": {},
   "outputs": [],
   "source": [
    "import pandas as pd\n",
    "import geopandas as gpd\n",
    "import countriesAndCities\n",
    "import dataGathering"
   ]
  },
  {
   "cell_type": "markdown",
   "id": "a7622890",
   "metadata": {},
   "source": [
    "# 1 Stations"
   ]
  },
  {
   "cell_type": "code",
   "execution_count": null,
   "id": "ad07634c",
   "metadata": {},
   "outputs": [],
   "source": [
    "largestStations = dict()\n",
    "\n",
    "urlGermany = 'https://bahnauskunft.info/bahnhoefe-deutschland/'\n",
    "urlAustria = 'https://www.omio.at/bahnhoefe'"
   ]
  },
  {
   "cell_type": "code",
   "execution_count": null,
   "id": "e4401a39",
   "metadata": {},
   "outputs": [],
   "source": [
    "largestStations['Germany'] = dataGathering.gather(urlGermany)\n",
    "largestStations['Austria']= dataGathering.gather(urlAustria, start=1)\n"
   ]
  },
  {
   "cell_type": "code",
   "execution_count": null,
   "id": "04780096",
   "metadata": {},
   "outputs": [],
   "source": [
    "largestStations"
   ]
  },
  {
   "cell_type": "markdown",
   "id": "846e3971",
   "metadata": {},
   "source": [
    "For both databases, we will need to be changing certain things in the keys of our largestStations dictionary.\n",
    "\n",
    "Since the operations are strikinlgy similar, we can use a function"
   ]
  },
  {
   "cell_type": "code",
   "execution_count": null,
   "id": "4b3b7650",
   "metadata": {},
   "outputs": [],
   "source": [
    "def changeKeys(country, valueToChange, newValue):\n",
    "    '''A method that takes the keys for a country in the largestStations dictionary, and replacey certain values\n",
    "     @param country: the country with a value to change, of type string\n",
    "     @param valueToChange: the value in the key to change\n",
    "     @param newValue: the new value in the key\n",
    "     @return largestStations: a dictionary with the information, of type dict'''\n",
    "    listKeys = list(largestStations[country].keys())\n",
    "    oldKeys = []\n",
    "    for i in range (len(listKeys)):\n",
    "        station = listKeys[i]\n",
    "        if valueToChange in listKeys[i]:\n",
    "            oldKey = station\n",
    "            oldKeys.append(oldKey)\n",
    "            newKey = station.replace(valueToChange, '') + newValue\n",
    "            largestStations[country][newKey] = largestStations[country][oldKey]\n",
    "    \n",
    "    for station in oldKeys:\n",
    "        largestStations[country].pop(station)\n",
    "    \n",
    "    return(largestStations)"
   ]
  },
  {
   "cell_type": "markdown",
   "id": "5d3c6afa",
   "metadata": {},
   "source": [
    "For Germany, we must replace 'Hauptbahnhof' by 'Hbf'\n",
    "\n",
    "For Austria, we must do the exact opposite: replace 'Hbf' by 'Hauptbahnhof'"
   ]
  },
  {
   "cell_type": "code",
   "execution_count": null,
   "id": "bb82bd14",
   "metadata": {},
   "outputs": [],
   "source": [
    "largestStations = changeKeys('Germany', 'Hauptbahnhof', 'Hbf')\n",
    "largestStations = changeKeys('Austria', 'Hbf', 'Hauptbahnhof')"
   ]
  },
  {
   "cell_type": "code",
   "execution_count": null,
   "id": "433cbfc1",
   "metadata": {},
   "outputs": [],
   "source": [
    "largestStations"
   ]
  },
  {
   "cell_type": "markdown",
   "id": "5faed42d",
   "metadata": {},
   "source": [
    "# 1.1 Stations in Germany"
   ]
  },
  {
   "cell_type": "code",
   "execution_count": null,
   "id": "c3be4f28",
   "metadata": {},
   "outputs": [],
   "source": [
    "stations = 'Germany/railwayStationNodes.geojson'\n",
    "\n",
    "deutscheBahnStations = gpd.read_file(stations)"
   ]
  },
  {
   "cell_type": "code",
   "execution_count": null,
   "id": "2da8ce42",
   "metadata": {},
   "outputs": [],
   "source": [
    "deutscheBahnStations.head()"
   ]
  },
  {
   "cell_type": "code",
   "execution_count": null,
   "id": "83cc57e1",
   "metadata": {},
   "outputs": [],
   "source": [
    "deutscheBahnStations.columns"
   ]
  },
  {
   "cell_type": "markdown",
   "id": "1d7bf4b8",
   "metadata": {},
   "source": [
    "We can start by dropping the column containing the nature of the node, and the index of the node"
   ]
  },
  {
   "cell_type": "code",
   "execution_count": null,
   "id": "5cb89334",
   "metadata": {},
   "outputs": [],
   "source": [
    "deutscheBahnStations = deutscheBahnStations.drop('formOfNode', axis = 1)\n",
    "deutscheBahnStations = deutscheBahnStations.drop('id', axis = 1)"
   ]
  },
  {
   "cell_type": "code",
   "execution_count": null,
   "id": "ad645818",
   "metadata": {},
   "outputs": [],
   "source": [
    "deutscheBahnStations"
   ]
  },
  {
   "cell_type": "code",
   "execution_count": null,
   "id": "ac80ee29",
   "metadata": {},
   "outputs": [],
   "source": [
    "deutscheBahnStations.loc[deutscheBahnStations['geographicalName'].str.contains('Frankfurt')]"
   ]
  },
  {
   "cell_type": "markdown",
   "id": "b9bdeb46",
   "metadata": {},
   "source": [
    "We can now select the stations in the entire database"
   ]
  },
  {
   "cell_type": "code",
   "execution_count": null,
   "id": "e4fca830",
   "metadata": {},
   "outputs": [],
   "source": [
    "dfListStations = []\n",
    "for station in (list(largestStations['Germany'].keys())):\n",
    "    tempFrame = deutscheBahnStations.loc[deutscheBahnStations['geographicalName'] == station]\n",
    "    dfListStations.append(tempFrame)"
   ]
  },
  {
   "cell_type": "code",
   "execution_count": null,
   "id": "8c503e22",
   "metadata": {},
   "outputs": [],
   "source": [
    "dfListStations"
   ]
  },
  {
   "cell_type": "markdown",
   "id": "741480ef",
   "metadata": {},
   "source": [
    "And transform it to a geodataframe, using the GPS coordinate system (EPSG:4258)"
   ]
  },
  {
   "cell_type": "code",
   "execution_count": null,
   "id": "ee6d25f4",
   "metadata": {},
   "outputs": [],
   "source": [
    "workFrameStations = gpd.GeoDataFrame(pd.concat(dfListStations, ignore_index=True), crs=4258)"
   ]
  },
  {
   "cell_type": "code",
   "execution_count": null,
   "id": "a7b0164f",
   "metadata": {},
   "outputs": [],
   "source": [
    "workFrameStations"
   ]
  },
  {
   "cell_type": "markdown",
   "id": "c2fc2301",
   "metadata": {},
   "source": [
    "Certain nodes are duplicate, we can drop them"
   ]
  },
  {
   "cell_type": "code",
   "execution_count": null,
   "id": "1d7fa7cd",
   "metadata": {},
   "outputs": [],
   "source": [
    "workFrameStations = workFrameStations.drop_duplicates(subset='railwayStationCode')"
   ]
  },
  {
   "cell_type": "code",
   "execution_count": null,
   "id": "ab469f2f",
   "metadata": {},
   "outputs": [],
   "source": [
    "workFrameStations"
   ]
  },
  {
   "cell_type": "markdown",
   "id": "8e0cf3a8",
   "metadata": {},
   "source": [
    "# 1.2 Stations in Austria"
   ]
  },
  {
   "cell_type": "markdown",
   "id": "f74534e1",
   "metadata": {},
   "source": [
    "Similarly, we can do the same thing for Austria."
   ]
  },
  {
   "cell_type": "code",
   "execution_count": null,
   "id": "6d8023d1",
   "metadata": {},
   "outputs": [],
   "source": [
    "stationsAustria = 'Austria/GIP_Betriebsstellen_DelEUV_JSON.json'\n",
    "stationsAustriaFrame = gpd.read_file(stationsAustria)"
   ]
  },
  {
   "cell_type": "code",
   "execution_count": null,
   "id": "40fab5ad",
   "metadata": {},
   "outputs": [],
   "source": [
    "stationsAustriaFrame"
   ]
  },
  {
   "cell_type": "code",
   "execution_count": null,
   "id": "142df22c",
   "metadata": {},
   "outputs": [],
   "source": [
    "stationsAustriaFrame.columns"
   ]
  },
  {
   "cell_type": "markdown",
   "id": "86bac7f9",
   "metadata": {},
   "source": [
    "Quite a few of these columns are useless, we can remove them"
   ]
  },
  {
   "cell_type": "code",
   "execution_count": null,
   "id": "a68ac0f4",
   "metadata": {},
   "outputs": [],
   "source": [
    "columnsToRemove = ['BSTS_ID', 'DB640_CODE', 'OBJECTID', 'GIP_OBID', 'EXTERNALID', 'REGIONALCO', 'VALIDFROM', 'VALIDTO', 'OWNER_NAME', 'PV_EVA_NR', 'ANZ_AUFZUG', 'ANZ_FAHRTR', 'ANZ_UHREN',\n",
    "                  'ANZ_AKUSTI','ANZ_OPTISC', 'INFOPOINT', 'MUEZ', 'MUEZ_KURZ', 'HILFE_MOBI', 'ANZ_ROLLST', 'ANZ_E_LADE', 'RUD_PARKPL', 'VERIFIZIER',\n",
    "                  'PUBL_WLAN', 'MUEZ_LANG', 'BEMERKUNG']"
   ]
  },
  {
   "cell_type": "code",
   "execution_count": null,
   "id": "cfb8ef6a",
   "metadata": {},
   "outputs": [],
   "source": [
    "for column in columnsToRemove:\n",
    "    stationsAustriaFrame = stationsAustriaFrame.drop(column, axis=1)"
   ]
  },
  {
   "cell_type": "markdown",
   "id": "0e862b44",
   "metadata": {},
   "source": [
    "We can now focus on retrieving the useful stations"
   ]
  },
  {
   "cell_type": "code",
   "execution_count": null,
   "id": "19cedca3",
   "metadata": {},
   "outputs": [],
   "source": [
    "dfStationsAustria = []\n",
    "for station in largestStations['Austria']:\n",
    "    tempFrame = stationsAustriaFrame.loc[stationsAustriaFrame['NAME_FPL'] == station]\n",
    "    dfStationsAustria.append(tempFrame)"
   ]
  },
  {
   "cell_type": "markdown",
   "id": "23f6989c",
   "metadata": {},
   "source": [
    "And convert it to a geodataframe"
   ]
  },
  {
   "cell_type": "code",
   "execution_count": null,
   "id": "77b80471",
   "metadata": {},
   "outputs": [],
   "source": [
    "workFrameAustria = gpd.GeoDataFrame(pd.concat(dfStationsAustria), crs = 31287)"
   ]
  },
  {
   "cell_type": "code",
   "execution_count": null,
   "id": "af0e1504",
   "metadata": {},
   "outputs": [],
   "source": [
    "workFrameAustria"
   ]
  },
  {
   "cell_type": "markdown",
   "id": "af2d6417",
   "metadata": {},
   "source": [
    "# 2 Train lines"
   ]
  },
  {
   "cell_type": "markdown",
   "id": "b0b1b54f",
   "metadata": {},
   "source": [
    "We can also work on certain databases with train lines.\n",
    "\n",
    "However, there is less work in that case. \n",
    "\n",
    "We cannot get rid of any row, as each row contains specific information, that isn't available in any other row.\n",
    "Should we get rid of one line, we would lose one bit of unreplicable information"
   ]
  },
  {
   "cell_type": "markdown",
   "id": "8da56093",
   "metadata": {},
   "source": [
    "# 2.1 Train lines in Germany"
   ]
  },
  {
   "cell_type": "code",
   "execution_count": 28,
   "id": "4b492b0b",
   "metadata": {},
   "outputs": [],
   "source": [
    "deutscheBahnLines = gpd.read_file('Germany/railwayLines.geojson')"
   ]
  },
  {
   "cell_type": "code",
   "execution_count": 29,
   "id": "90f37832",
   "metadata": {},
   "outputs": [
    {
     "data": {
      "text/html": [
       "<div>\n",
       "<style scoped>\n",
       "    .dataframe tbody tr th:only-of-type {\n",
       "        vertical-align: middle;\n",
       "    }\n",
       "\n",
       "    .dataframe tbody tr th {\n",
       "        vertical-align: top;\n",
       "    }\n",
       "\n",
       "    .dataframe thead th {\n",
       "        text-align: right;\n",
       "    }\n",
       "</style>\n",
       "<table border=\"1\" class=\"dataframe\">\n",
       "  <thead>\n",
       "    <tr style=\"text-align: right;\">\n",
       "      <th></th>\n",
       "      <th>id</th>\n",
       "      <th>geographicalName</th>\n",
       "      <th>railwayLineCode</th>\n",
       "      <th>geometry</th>\n",
       "    </tr>\n",
       "  </thead>\n",
       "  <tbody>\n",
       "    <tr>\n",
       "      <th>0</th>\n",
       "      <td>Line-1078435</td>\n",
       "      <td>Grötzingen - Eppingen</td>\n",
       "      <td>4201</td>\n",
       "      <td>MULTILINESTRING ((8.49314 49.00583, 8.49356 49...</td>\n",
       "    </tr>\n",
       "    <tr>\n",
       "      <th>1</th>\n",
       "      <td>Line-1078629</td>\n",
       "      <td>Berlin Ostbf - Berlin-Spandau</td>\n",
       "      <td>6109</td>\n",
       "      <td>MULTILINESTRING ((13.23049 52.52917, 13.23024 ...</td>\n",
       "    </tr>\n",
       "    <tr>\n",
       "      <th>2</th>\n",
       "      <td>Line-1078434</td>\n",
       "      <td>Karlsruhe Gbf - West</td>\n",
       "      <td>4215</td>\n",
       "      <td>MULTILINESTRING ((8.39203 48.98890, 8.39183 48...</td>\n",
       "    </tr>\n",
       "    <tr>\n",
       "      <th>3</th>\n",
       "      <td>Line-1078437</td>\n",
       "      <td>Marnheim - Monsheim</td>\n",
       "      <td>3561</td>\n",
       "      <td>MULTILINESTRING ((8.20148 49.63515, 8.20170 49...</td>\n",
       "    </tr>\n",
       "    <tr>\n",
       "      <th>4</th>\n",
       "      <td>Line-1078436</td>\n",
       "      <td>Kall - Hellenthal</td>\n",
       "      <td>2635</td>\n",
       "      <td>MULTILINESTRING ((6.55488 50.53503, 6.55517 50...</td>\n",
       "    </tr>\n",
       "  </tbody>\n",
       "</table>\n",
       "</div>"
      ],
      "text/plain": [
       "             id               geographicalName railwayLineCode  \\\n",
       "0  Line-1078435          Grötzingen - Eppingen            4201   \n",
       "1  Line-1078629  Berlin Ostbf - Berlin-Spandau            6109   \n",
       "2  Line-1078434           Karlsruhe Gbf - West            4215   \n",
       "3  Line-1078437            Marnheim - Monsheim            3561   \n",
       "4  Line-1078436              Kall - Hellenthal            2635   \n",
       "\n",
       "                                            geometry  \n",
       "0  MULTILINESTRING ((8.49314 49.00583, 8.49356 49...  \n",
       "1  MULTILINESTRING ((13.23049 52.52917, 13.23024 ...  \n",
       "2  MULTILINESTRING ((8.39203 48.98890, 8.39183 48...  \n",
       "3  MULTILINESTRING ((8.20148 49.63515, 8.20170 49...  \n",
       "4  MULTILINESTRING ((6.55488 50.53503, 6.55517 50...  "
      ]
     },
     "execution_count": 29,
     "metadata": {},
     "output_type": "execute_result"
    }
   ],
   "source": [
    "deutscheBahnLines.head()"
   ]
  },
  {
   "cell_type": "markdown",
   "id": "43c5e33d",
   "metadata": {},
   "source": [
    "We can drop the id column"
   ]
  },
  {
   "cell_type": "code",
   "execution_count": 30,
   "id": "33783e4d",
   "metadata": {},
   "outputs": [
    {
     "data": {
      "text/html": [
       "<div>\n",
       "<style scoped>\n",
       "    .dataframe tbody tr th:only-of-type {\n",
       "        vertical-align: middle;\n",
       "    }\n",
       "\n",
       "    .dataframe tbody tr th {\n",
       "        vertical-align: top;\n",
       "    }\n",
       "\n",
       "    .dataframe thead th {\n",
       "        text-align: right;\n",
       "    }\n",
       "</style>\n",
       "<table border=\"1\" class=\"dataframe\">\n",
       "  <thead>\n",
       "    <tr style=\"text-align: right;\">\n",
       "      <th></th>\n",
       "      <th>geographicalName</th>\n",
       "      <th>railwayLineCode</th>\n",
       "      <th>geometry</th>\n",
       "    </tr>\n",
       "  </thead>\n",
       "  <tbody>\n",
       "    <tr>\n",
       "      <th>0</th>\n",
       "      <td>Grötzingen - Eppingen</td>\n",
       "      <td>4201</td>\n",
       "      <td>MULTILINESTRING ((8.49314 49.00583, 8.49356 49...</td>\n",
       "    </tr>\n",
       "    <tr>\n",
       "      <th>1</th>\n",
       "      <td>Berlin Ostbf - Berlin-Spandau</td>\n",
       "      <td>6109</td>\n",
       "      <td>MULTILINESTRING ((13.23049 52.52917, 13.23024 ...</td>\n",
       "    </tr>\n",
       "    <tr>\n",
       "      <th>2</th>\n",
       "      <td>Karlsruhe Gbf - West</td>\n",
       "      <td>4215</td>\n",
       "      <td>MULTILINESTRING ((8.39203 48.98890, 8.39183 48...</td>\n",
       "    </tr>\n",
       "    <tr>\n",
       "      <th>3</th>\n",
       "      <td>Marnheim - Monsheim</td>\n",
       "      <td>3561</td>\n",
       "      <td>MULTILINESTRING ((8.20148 49.63515, 8.20170 49...</td>\n",
       "    </tr>\n",
       "    <tr>\n",
       "      <th>4</th>\n",
       "      <td>Kall - Hellenthal</td>\n",
       "      <td>2635</td>\n",
       "      <td>MULTILINESTRING ((6.55488 50.53503, 6.55517 50...</td>\n",
       "    </tr>\n",
       "    <tr>\n",
       "      <th>...</th>\n",
       "      <td>...</td>\n",
       "      <td>...</td>\n",
       "      <td>...</td>\n",
       "    </tr>\n",
       "    <tr>\n",
       "      <th>1489</th>\n",
       "      <td>Leipzig Bayer Bf - Gaschwitz</td>\n",
       "      <td>6377</td>\n",
       "      <td>MULTILINESTRING ((12.38109 51.33009, 12.38157 ...</td>\n",
       "    </tr>\n",
       "    <tr>\n",
       "      <th>1490</th>\n",
       "      <td>Abzw Rainweg - HH-Eidelstedt</td>\n",
       "      <td>1232</td>\n",
       "      <td>MULTILINESTRING ((9.94184 53.56297, 9.94179 53...</td>\n",
       "    </tr>\n",
       "    <tr>\n",
       "      <th>1491</th>\n",
       "      <td>HH Oberhafen - Hamburg Hbf</td>\n",
       "      <td>1250</td>\n",
       "      <td>MULTILINESTRING ((10.02458 53.53495, 10.02476 ...</td>\n",
       "    </tr>\n",
       "    <tr>\n",
       "      <th>1492</th>\n",
       "      <td>Lauda - Wertheim</td>\n",
       "      <td>4920</td>\n",
       "      <td>MULTILINESTRING ((9.71127 49.56368, 9.71075 49...</td>\n",
       "    </tr>\n",
       "    <tr>\n",
       "      <th>1493</th>\n",
       "      <td>Bremen-Hastedt - Bremen-Vahr</td>\n",
       "      <td>1402</td>\n",
       "      <td>MULTILINESTRING ((8.87820 53.06635, 8.87819 53...</td>\n",
       "    </tr>\n",
       "  </tbody>\n",
       "</table>\n",
       "<p>1494 rows × 3 columns</p>\n",
       "</div>"
      ],
      "text/plain": [
       "                   geographicalName railwayLineCode  \\\n",
       "0             Grötzingen - Eppingen            4201   \n",
       "1     Berlin Ostbf - Berlin-Spandau            6109   \n",
       "2              Karlsruhe Gbf - West            4215   \n",
       "3               Marnheim - Monsheim            3561   \n",
       "4                 Kall - Hellenthal            2635   \n",
       "...                             ...             ...   \n",
       "1489   Leipzig Bayer Bf - Gaschwitz            6377   \n",
       "1490   Abzw Rainweg - HH-Eidelstedt            1232   \n",
       "1491     HH Oberhafen - Hamburg Hbf            1250   \n",
       "1492               Lauda - Wertheim            4920   \n",
       "1493   Bremen-Hastedt - Bremen-Vahr            1402   \n",
       "\n",
       "                                               geometry  \n",
       "0     MULTILINESTRING ((8.49314 49.00583, 8.49356 49...  \n",
       "1     MULTILINESTRING ((13.23049 52.52917, 13.23024 ...  \n",
       "2     MULTILINESTRING ((8.39203 48.98890, 8.39183 48...  \n",
       "3     MULTILINESTRING ((8.20148 49.63515, 8.20170 49...  \n",
       "4     MULTILINESTRING ((6.55488 50.53503, 6.55517 50...  \n",
       "...                                                 ...  \n",
       "1489  MULTILINESTRING ((12.38109 51.33009, 12.38157 ...  \n",
       "1490  MULTILINESTRING ((9.94184 53.56297, 9.94179 53...  \n",
       "1491  MULTILINESTRING ((10.02458 53.53495, 10.02476 ...  \n",
       "1492  MULTILINESTRING ((9.71127 49.56368, 9.71075 49...  \n",
       "1493  MULTILINESTRING ((8.87820 53.06635, 8.87819 53...  \n",
       "\n",
       "[1494 rows x 3 columns]"
      ]
     },
     "execution_count": 30,
     "metadata": {},
     "output_type": "execute_result"
    }
   ],
   "source": [
    "deutscheBahnLines = deutscheBahnLines.drop('id', axis=1)"
   ]
  },
  {
   "cell_type": "markdown",
   "id": "c36eb842",
   "metadata": {},
   "source": [
    "# 2.2 Train lines in Austria"
   ]
  },
  {
   "cell_type": "code",
   "execution_count": 31,
   "id": "d96ee5ca",
   "metadata": {},
   "outputs": [],
   "source": [
    "linesAustria = 'Austria/GIP_Strecken_MLA.json'\n",
    "linesAustriaFrame = gpd.read_file(linesAustria)"
   ]
  },
  {
   "cell_type": "code",
   "execution_count": 32,
   "id": "2a082c09",
   "metadata": {},
   "outputs": [
    {
     "data": {
      "text/plain": [
       "Index(['GIP_OBID', 'KMSYS_CODE', 'BST_ID', 'FOW_NAME', 'FRC_NAME', 'REGION',\n",
       "       'MAINNAME', 'VALIDFROM', 'VALIDTO', 'NODEFROM', 'NODETO', 'CROSSSECT',\n",
       "       'CROSS_NAME', 'ELEKTRI', 'EXPDATE', 'geometry'],\n",
       "      dtype='object')"
      ]
     },
     "execution_count": 32,
     "metadata": {},
     "output_type": "execute_result"
    }
   ],
   "source": [
    "linesAustriaFrame.columns"
   ]
  },
  {
   "cell_type": "markdown",
   "id": "3c21c93c",
   "metadata": {},
   "source": [
    "Once again, quite a few columns are useless, and we can get rid of them"
   ]
  },
  {
   "cell_type": "code",
   "execution_count": 33,
   "id": "42f91cf5",
   "metadata": {},
   "outputs": [],
   "source": [
    "uselessColumns = ['GIP_OBID', 'BST_ID', 'FOW_NAME', 'FRC_NAME', 'REGION', 'VALIDFROM', 'VALIDTO', 'CROSSSECT', 'CROSS_NAME', \n",
    "                  'ELEKTRI', 'EXPDATE']\n",
    "\n",
    "for column in uselessColumns:\n",
    "    linesAustriaFrame = linesAustriaFrame.drop(column, axis=1)"
   ]
  },
  {
   "cell_type": "markdown",
   "id": "63f5e029",
   "metadata": {},
   "source": [
    "We are left with an id for the line, the name of the line, the geographical region in which the line lies (between 'NODEFROM' and 'NODETO'), and the geometry of the lines.\n",
    "\n",
    "We can't get rid of any further rows, as each row contains unique geometric information"
   ]
  },
  {
   "cell_type": "code",
   "execution_count": null,
   "id": "e6379fbf",
   "metadata": {},
   "outputs": [],
   "source": []
  }
 ],
 "metadata": {
  "kernelspec": {
   "display_name": "Python 3 (ipykernel)",
   "language": "python",
   "name": "python3"
  },
  "language_info": {
   "codemirror_mode": {
    "name": "ipython",
    "version": 3
   },
   "file_extension": ".py",
   "mimetype": "text/x-python",
   "name": "python",
   "nbconvert_exporter": "python",
   "pygments_lexer": "ipython3",
   "version": "3.8.3"
  }
 },
 "nbformat": 4,
 "nbformat_minor": 5
}
